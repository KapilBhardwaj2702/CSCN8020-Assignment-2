{
 "cells": [
  {
   "cell_type": "markdown",
   "id": "a57b2d15",
   "metadata": {},
   "source": [
    "\n",
    "# CSCN8020 — Assignment 2\n",
    "\n",
    "**Solution (QLearning on Taxi)**\n",
    "\n",
    "Student Name- Kapil Bhardwaj\n",
    "Date: October 14, 2025\n",
    "\n",
    "---\n",
    "\n",
    "This notebook provides:\n",
    "- A runnable Q-Learning implementation for the OpenAI Gym `Taxi-v3` environment.\n",
    "- Experiments for the requested hyperparameter sweeps.\n",
    "- Plots and a short report with observations and the best hyperparameter choice.\n"
   ]
  },
  {
   "cell_type": "markdown",
   "id": "d079fa92",
   "metadata": {},
   "source": [
    "> **How to use:** run the cells in order. Make sure `gym` (Gymnasium) and `matplotlib` are installed and that the provided `assignment2_utils.py` file is in the same directory"
   ]
  },
  {
   "cell_type": "markdown",
   "id": "4fe45027",
   "metadata": {},
   "source": [
    "## Imports and helper functions\n",
    "This cell imports required libraries and defines helper functions used throughout the notebook."
   ]
  },
  {
   "cell_type": "code",
   "execution_count": 31,
   "id": "b2fce5a6",
   "metadata": {},
   "outputs": [
    {
     "name": "stdout",
     "output_type": "stream",
     "text": [
      "✅ Using Gymnasium (preferred)\n",
      "✅ assignment2_utils.py loaded successfully\n",
      "Available helper functions in assignment2_utils:\n",
      "['breakdown_obs', 'describe_env', 'describe_obs', 'get_action_description', 'gym', 'main', 'simulate_episodes', 'time']\n"
     ]
    }
   ],
   "source": [
    "\n",
    "import numpy as np\n",
    "import random\n",
    "import time\n",
    "import matplotlib.pyplot as plt\n",
    "import pandas as pd\n",
    "from collections import defaultdict, deque\n",
    "import os\n",
    "import sys\n",
    "\n",
    "# Try to import Gymnasium first (preferred), then fallback to old Gym\n",
    "try:\n",
    "    import gymnasium as gym\n",
    "    print(\"✅ Using Gymnasium (preferred)\")\n",
    "except ImportError:\n",
    "    import gym\n",
    "    print(\"⚠️ Using legacy OpenAI Gym (please consider installing Gymnasium)\")\n",
    "\n",
    "# ============================================================\n",
    "# Try to import the provided assignment utility file\n",
    "# ============================================================\n",
    "sys.path.append('.')        # current folder\n",
    "sys.path.append('./Utils')  # in case notebook runs on hosted environment\n",
    "\n",
    "try:\n",
    "    import assignment2_utils as a2u\n",
    "    print(\"✅ assignment2_utils.py loaded successfully\")\n",
    "\n",
    "    # --- Optional implicit integration ---\n",
    "    # For example, if a2u defines custom functions like plot_results or evaluate_agent,\n",
    "    # we can automatically hook them here (only if they exist)\n",
    "    if hasattr(a2u, \"setup_environment\"):\n",
    "        print(\"ℹ️ Using a2u.setup_environment() to initialize environment\")\n",
    "        env = a2u.setup_environment()\n",
    "    else:\n",
    "        env = None\n",
    "\n",
    "except Exception as e:\n",
    "    print(\"⚠️ Warning: could not import assignment2_utils.py.\")\n",
    "    print(\"Error:\", e)\n",
    "    a2u = None\n",
    "    env = None\n",
    "\n",
    "# Matplotlib configuration\n",
    "%matplotlib inline\n",
    "plt.rcParams['figure.figsize'] = (10, 5)\n",
    "plt.rcParams['axes.grid'] = True\n",
    "plt.rcParams['axes.titlesize'] = 14\n",
    "plt.rcParams['axes.labelsize'] = 12\n",
    "\n",
    "# ============================================================\n",
    "# Optional: show helper info from utils if available\n",
    "# ============================================================\n",
    "if a2u is not None:\n",
    "    print(\"Available helper functions in assignment2_utils:\")\n",
    "    print([func for func in dir(a2u) if not func.startswith('_')])\n"
   ]
  },
  {
   "cell_type": "markdown",
   "id": "6d067444",
   "metadata": {},
   "source": [
    "## Q-Learning implementation\n",
    "We implement a QLearning agent class with the specified hyperparameters. The agent stores a Q-table and uses an epsilon-greedy policy for exploration."
   ]
  },
  {
   "cell_type": "code",
   "execution_count": 32,
   "id": "d80d257b",
   "metadata": {},
   "outputs": [],
   "source": [
    "\n",
    "class QLearningAgent:\n",
    "    def __init__(self, num_states, num_actions, alpha=0.1, gamma=0.9, epsilon=0.1, seed=None):\n",
    "        self.num_states = num_states\n",
    "        self.num_actions = num_actions\n",
    "        self.alpha = alpha\n",
    "        self.gamma = gamma\n",
    "        self.epsilon = epsilon\n",
    "        self.Q = np.zeros((num_states, num_actions), dtype=float)\n",
    "        if seed is not None:\n",
    "            np.random.seed(seed)\n",
    "            random.seed(seed)\n",
    "    \n",
    "    def select_action(self, state, greedy=False):\n",
    "        # epsilon-greedy\n",
    "        if (not greedy) and (np.random.rand() < self.epsilon):\n",
    "            return np.random.randint(self.num_actions)\n",
    "        else:\n",
    "            # break ties randomly\n",
    "            qvals = self.Q[state]\n",
    "            max_q = np.max(qvals)\n",
    "            choices = np.where(qvals == max_q)[0]\n",
    "            return np.random.choice(choices)\n",
    "    \n",
    "    def update(self, s, a, r, s_next, done):\n",
    "        # Q-learning update: Q(s,a) <- Q(s,a) + alpha * (r + gamma * max_a' Q(s',a') - Q(s,a))\n",
    "        target = r\n",
    "        if not done:\n",
    "            target += self.gamma * np.max(self.Q[s_next])\n",
    "        self.Q[s, a] += self.alpha * (target - self.Q[s, a])\n",
    "    \n",
    "    def set_epsilon(self, eps):\n",
    "        self.epsilon = eps\n",
    "\n",
    "    def set_alpha(self, alpha):\n",
    "        self.alpha = alpha\n",
    "\n",
    "    def set_gamma(self, gamma):\n",
    "        self.gamma = gamma\n"
   ]
  },
  {
   "cell_type": "markdown",
   "id": "5589fc6b",
   "metadata": {},
   "source": [
    "## Training loop\n",
    "This cell contains a function to train the Q-Learning agent and return metrics requested by the assignment:\n",
    "- total episodes\n",
    "- total steps taken per episode\n",
    "- average return per episode\n",
    "\n",
    "We also collect per-episode return (sum of rewards) and episode length."
   ]
  },
  {
   "cell_type": "code",
   "execution_count": 33,
   "id": "e9a22b5b",
   "metadata": {},
   "outputs": [],
   "source": [
    "\n",
    "def train_q_learning(env, agent, num_episodes=5000, max_steps_per_episode=200, render=False, verbose=False):\n",
    "    episode_returns = []\n",
    "    episode_lengths = []\n",
    "    for ep in range(1, num_episodes+1):\n",
    "        state, _ = env.reset()\n",
    "        total_reward = 0.0\n",
    "        steps = 0\n",
    "        done = False\n",
    "        while not done and steps < max_steps_per_episode:\n",
    "            action = agent.select_action(state)\n",
    "            next_state, reward, done, truncated, info = env.step(action)\n",
    "            # Some Gym versions return 'truncated' separate from 'done'; treat truncated as done for learning.\n",
    "            done_flag = bool(done or truncated)\n",
    "            agent.update(state, action, reward, next_state, done_flag)\n",
    "            state = next_state\n",
    "            total_reward += reward\n",
    "            steps += 1\n",
    "            if render:\n",
    "                env.render()\n",
    "                time.sleep(0.01)\n",
    "        episode_returns.append(total_reward)\n",
    "        episode_lengths.append(steps)\n",
    "        # Optional verbose logging\n",
    "        if verbose and (ep % (num_episodes//10 if num_episodes>=10 else 1) == 0):\n",
    "            print(f\"Episode {ep}/{num_episodes}: return={total_reward:.1f}, steps={steps}\")\n",
    "    metrics = {\n",
    "        'episode_returns': np.array(episode_returns),\n",
    "        'episode_lengths': np.array(episode_lengths),\n",
    "        'total_episodes': num_episodes\n",
    "    }\n",
    "    return metrics\n"
   ]
  },
  {
   "cell_type": "markdown",
   "id": "f13d68b7",
   "metadata": {},
   "source": [
    "## Experiments\n",
    "We run the required experiments:\n",
    "- Baseline: alpha=0.1, epsilon=0.1, gamma=0.9\n",
    "- Parameter changes (separately):\n",
    "  - Learning Rate α = [0.01, 0.001, 0.2]\n",
    "  - Exploration Factor (epsilon) = [0.2, 0.3]\n",
    "\n",
    "You can adjust `NUM_EPISODES` to control runtime. For quick checks set it to e.g. 2000; for final results use 5000+ as required by the assignment."
   ]
  },
  {
   "cell_type": "code",
   "execution_count": 34,
   "id": "6617ee65",
   "metadata": {},
   "outputs": [
    {
     "name": "stdout",
     "output_type": "stream",
     "text": [
      "Running baseline...\n",
      "Episode 500/5000: return=-128.0, steps=113\n",
      "Episode 1000/5000: return=-48.0, steps=60\n",
      "Episode 1500/5000: return=8.0, steps=13\n",
      "Episode 2000/5000: return=-14.0, steps=17\n",
      "Episode 2500/5000: return=-5.0, steps=17\n",
      "Episode 3000/5000: return=-8.0, steps=20\n",
      "Episode 3500/5000: return=8.0, steps=13\n",
      "Episode 4000/5000: return=0.0, steps=12\n",
      "Episode 4500/5000: return=11.0, steps=10\n",
      "Episode 5000/5000: return=7.0, steps=14\n",
      "Running alpha=0.01 ...\n",
      "Running alpha=0.001 ...\n",
      "Running alpha=0.2 ...\n",
      "Running epsilon=0.2 ...\n",
      "Running epsilon=0.3 ...\n"
     ]
    },
    {
     "data": {
      "application/vnd.microsoft.datawrangler.viewer.v0+json": {
       "columns": [
        {
         "name": "index",
         "rawType": "int64",
         "type": "integer"
        },
        {
         "name": "run",
         "rawType": "object",
         "type": "string"
        },
        {
         "name": "alpha",
         "rawType": "float64",
         "type": "float"
        },
        {
         "name": "epsilon",
         "rawType": "float64",
         "type": "float"
        },
        {
         "name": "gamma",
         "rawType": "float64",
         "type": "float"
        },
        {
         "name": "avg_return",
         "rawType": "float64",
         "type": "float"
        },
        {
         "name": "avg_length",
         "rawType": "float64",
         "type": "float"
        }
       ],
       "ref": "6e0b0bfd-f5cf-443f-846e-ae0f71d8a04f",
       "rows": [
        [
         "0",
         "baseline",
         "0.1",
         "0.1",
         "0.9",
         "-21.0142",
         "30.0838"
        ],
        [
         "1",
         "alpha_0.01",
         "0.01",
         "0.1",
         "0.9",
         "-160.349",
         "127.1528"
        ],
        [
         "2",
         "alpha_0.001",
         "0.001",
         "0.1",
         "0.9",
         "-257.8632",
         "184.9116"
        ],
        [
         "3",
         "alpha_0.2",
         "0.2",
         "0.1",
         "0.9",
         "-11.4594",
         "23.4588"
        ],
        [
         "4",
         "epsilon_0.2",
         "0.1",
         "0.2",
         "0.9",
         "-32.535",
         "32.7822"
        ],
        [
         "5",
         "epsilon_0.3",
         "0.1",
         "0.3",
         "0.9",
         "-47.3394",
         "35.883"
        ]
       ],
       "shape": {
        "columns": 6,
        "rows": 6
       }
      },
      "text/html": [
       "<div>\n",
       "<style scoped>\n",
       "    .dataframe tbody tr th:only-of-type {\n",
       "        vertical-align: middle;\n",
       "    }\n",
       "\n",
       "    .dataframe tbody tr th {\n",
       "        vertical-align: top;\n",
       "    }\n",
       "\n",
       "    .dataframe thead th {\n",
       "        text-align: right;\n",
       "    }\n",
       "</style>\n",
       "<table border=\"1\" class=\"dataframe\">\n",
       "  <thead>\n",
       "    <tr style=\"text-align: right;\">\n",
       "      <th></th>\n",
       "      <th>run</th>\n",
       "      <th>alpha</th>\n",
       "      <th>epsilon</th>\n",
       "      <th>gamma</th>\n",
       "      <th>avg_return</th>\n",
       "      <th>avg_length</th>\n",
       "    </tr>\n",
       "  </thead>\n",
       "  <tbody>\n",
       "    <tr>\n",
       "      <th>0</th>\n",
       "      <td>baseline</td>\n",
       "      <td>0.100</td>\n",
       "      <td>0.1</td>\n",
       "      <td>0.9</td>\n",
       "      <td>-21.0142</td>\n",
       "      <td>30.0838</td>\n",
       "    </tr>\n",
       "    <tr>\n",
       "      <th>1</th>\n",
       "      <td>alpha_0.01</td>\n",
       "      <td>0.010</td>\n",
       "      <td>0.1</td>\n",
       "      <td>0.9</td>\n",
       "      <td>-160.3490</td>\n",
       "      <td>127.1528</td>\n",
       "    </tr>\n",
       "    <tr>\n",
       "      <th>2</th>\n",
       "      <td>alpha_0.001</td>\n",
       "      <td>0.001</td>\n",
       "      <td>0.1</td>\n",
       "      <td>0.9</td>\n",
       "      <td>-257.8632</td>\n",
       "      <td>184.9116</td>\n",
       "    </tr>\n",
       "    <tr>\n",
       "      <th>3</th>\n",
       "      <td>alpha_0.2</td>\n",
       "      <td>0.200</td>\n",
       "      <td>0.1</td>\n",
       "      <td>0.9</td>\n",
       "      <td>-11.4594</td>\n",
       "      <td>23.4588</td>\n",
       "    </tr>\n",
       "    <tr>\n",
       "      <th>4</th>\n",
       "      <td>epsilon_0.2</td>\n",
       "      <td>0.100</td>\n",
       "      <td>0.2</td>\n",
       "      <td>0.9</td>\n",
       "      <td>-32.5350</td>\n",
       "      <td>32.7822</td>\n",
       "    </tr>\n",
       "    <tr>\n",
       "      <th>5</th>\n",
       "      <td>epsilon_0.3</td>\n",
       "      <td>0.100</td>\n",
       "      <td>0.3</td>\n",
       "      <td>0.9</td>\n",
       "      <td>-47.3394</td>\n",
       "      <td>35.8830</td>\n",
       "    </tr>\n",
       "  </tbody>\n",
       "</table>\n",
       "</div>"
      ],
      "text/plain": [
       "           run  alpha  epsilon  gamma  avg_return  avg_length\n",
       "0     baseline  0.100      0.1    0.9    -21.0142     30.0838\n",
       "1   alpha_0.01  0.010      0.1    0.9   -160.3490    127.1528\n",
       "2  alpha_0.001  0.001      0.1    0.9   -257.8632    184.9116\n",
       "3    alpha_0.2  0.200      0.1    0.9    -11.4594     23.4588\n",
       "4  epsilon_0.2  0.100      0.2    0.9    -32.5350     32.7822\n",
       "5  epsilon_0.3  0.100      0.3    0.9    -47.3394     35.8830"
      ]
     },
     "execution_count": 34,
     "metadata": {},
     "output_type": "execute_result"
    }
   ],
   "source": [
    "\n",
    "# Parameters for experiments\n",
    "ENV_NAME = 'Taxi-v3'\n",
    "NUM_EPISODES = 5000  # change to lower (e.g., 1000) for quicker runs during debugging\n",
    "MAX_STEPS = 200\n",
    "\n",
    "baseline_params = {'alpha': 0.1, 'epsilon': 0.1, 'gamma': 0.9}\n",
    "alpha_values = [0.01, 0.001, 0.2]\n",
    "epsilon_values = [0.2, 0.3]  # exploration values to test\n",
    "\n",
    "results = []\n",
    "\n",
    "# Create environment to get sizes\n",
    "env_tmp = gym.make(ENV_NAME)\n",
    "num_states = env_tmp.observation_space.n\n",
    "num_actions = env_tmp.action_space.n\n",
    "env_tmp.close()\n",
    "\n",
    "# Baseline run\n",
    "print(\"Running baseline...\")\n",
    "agent = QLearningAgent(num_states, num_actions, alpha=baseline_params['alpha'], gamma=baseline_params['gamma'], epsilon=baseline_params['epsilon'], seed=42)\n",
    "env = gym.make(ENV_NAME)\n",
    "metrics_baseline = train_q_learning(env, agent, num_episodes=NUM_EPISODES, max_steps_per_episode=MAX_STEPS, render=False, verbose=True)\n",
    "env.close()\n",
    "results.append({'name':'baseline', 'params': baseline_params, 'metrics': metrics_baseline})\n",
    "\n",
    "# Vary alpha (learning rate)\n",
    "for a in alpha_values:\n",
    "    print(f\"Running alpha={a} ...\")\n",
    "    agent = QLearningAgent(num_states, num_actions, alpha=a, gamma=baseline_params['gamma'], epsilon=baseline_params['epsilon'], seed=42)\n",
    "    env = gym.make(ENV_NAME)\n",
    "    metrics = train_q_learning(env, agent, num_episodes=NUM_EPISODES, max_steps_per_episode=MAX_STEPS, render=False, verbose=False)\n",
    "    env.close()\n",
    "    results.append({'name': f'alpha_{a}', 'params': {'alpha': a, 'epsilon': baseline_params['epsilon'], 'gamma': baseline_params['gamma']}, 'metrics': metrics})\n",
    "\n",
    "# Vary epsilon (exploration)\n",
    "for eps in epsilon_values:\n",
    "    print(f\"Running epsilon={eps} ...\")\n",
    "    agent = QLearningAgent(num_states, num_actions, alpha=baseline_params['alpha'], gamma=baseline_params['gamma'], epsilon=eps, seed=42)\n",
    "    env = gym.make(ENV_NAME)\n",
    "    metrics = train_q_learning(env, agent, num_episodes=NUM_EPISODES, max_steps_per_episode=MAX_STEPS, render=False, verbose=False)\n",
    "    env.close()\n",
    "    results.append({'name': f'epsilon_{eps}', 'params': {'alpha': baseline_params['alpha'], 'epsilon': eps, 'gamma': baseline_params['gamma']}, 'metrics': metrics})\n",
    "\n",
    "# Summarize results into a DataFrame\n",
    "summary_rows = []\n",
    "for r in results:\n",
    "    mets = r['metrics']\n",
    "    avg_return = float(np.mean(mets['episode_returns']))\n",
    "    avg_length = float(np.mean(mets['episode_lengths']))\n",
    "    summary_rows.append({'run': r['name'], 'alpha': r['params']['alpha'], 'epsilon': r['params']['epsilon'], 'gamma': r['params']['gamma'], 'avg_return': avg_return, 'avg_length': avg_length})\n",
    "summary_df = pd.DataFrame(summary_rows)\n",
    "summary_df\n"
   ]
  },
  {
   "cell_type": "markdown",
   "id": "c0de7c88",
   "metadata": {},
   "source": [
    "## Plots\n",
    "This cell provides plotting utilities to visualize learning curves (returns per episode) and average steps per episode."
   ]
  },
  {
   "cell_type": "code",
   "execution_count": 35,
   "id": "b5e0214b",
   "metadata": {},
   "outputs": [
    {
     "data": {
      "image/png": "[encoded data removed]",
      "text/plain": [
       "<Figure size 1200x500 with 1 Axes>"
      ]
     },
     "metadata": {},
     "output_type": "display_data"
    },
    {
     "data": {
      "application/vnd.microsoft.datawrangler.viewer.v0+json": {
       "columns": [
        {
         "name": "run",
         "rawType": "object",
         "type": "string"
        },
        {
         "name": "avg_return",
         "rawType": "float64",
         "type": "float"
        },
        {
         "name": "avg_length",
         "rawType": "float64",
         "type": "float"
        }
       ],
       "ref": "45aafd8e-5ccc-4a2d-8b4b-3d3af29eef15",
       "rows": [
        [
         "baseline",
         "-21.0142",
         "30.0838"
        ],
        [
         "alpha_0.01",
         "-160.349",
         "127.1528"
        ],
        [
         "alpha_0.001",
         "-257.8632",
         "184.9116"
        ],
        [
         "alpha_0.2",
         "-11.4594",
         "23.4588"
        ],
        [
         "epsilon_0.2",
         "-32.535",
         "32.7822"
        ],
        [
         "epsilon_0.3",
         "-47.3394",
         "35.883"
        ]
       ],
       "shape": {
        "columns": 2,
        "rows": 6
       }
      },
      "text/html": [
       "<div>\n",
       "<style scoped>\n",
       "    .dataframe tbody tr th:only-of-type {\n",
       "        vertical-align: middle;\n",
       "    }\n",
       "\n",
       "    .dataframe tbody tr th {\n",
       "        vertical-align: top;\n",
       "    }\n",
       "\n",
       "    .dataframe thead th {\n",
       "        text-align: right;\n",
       "    }\n",
       "</style>\n",
       "<table border=\"1\" class=\"dataframe\">\n",
       "  <thead>\n",
       "    <tr style=\"text-align: right;\">\n",
       "      <th></th>\n",
       "      <th>avg_return</th>\n",
       "      <th>avg_length</th>\n",
       "    </tr>\n",
       "    <tr>\n",
       "      <th>run</th>\n",
       "      <th></th>\n",
       "      <th></th>\n",
       "    </tr>\n",
       "  </thead>\n",
       "  <tbody>\n",
       "    <tr>\n",
       "      <th>baseline</th>\n",
       "      <td>-21.0142</td>\n",
       "      <td>30.0838</td>\n",
       "    </tr>\n",
       "    <tr>\n",
       "      <th>alpha_0.01</th>\n",
       "      <td>-160.3490</td>\n",
       "      <td>127.1528</td>\n",
       "    </tr>\n",
       "    <tr>\n",
       "      <th>alpha_0.001</th>\n",
       "      <td>-257.8632</td>\n",
       "      <td>184.9116</td>\n",
       "    </tr>\n",
       "    <tr>\n",
       "      <th>alpha_0.2</th>\n",
       "      <td>-11.4594</td>\n",
       "      <td>23.4588</td>\n",
       "    </tr>\n",
       "    <tr>\n",
       "      <th>epsilon_0.2</th>\n",
       "      <td>-32.5350</td>\n",
       "      <td>32.7822</td>\n",
       "    </tr>\n",
       "    <tr>\n",
       "      <th>epsilon_0.3</th>\n",
       "      <td>-47.3394</td>\n",
       "      <td>35.8830</td>\n",
       "    </tr>\n",
       "  </tbody>\n",
       "</table>\n",
       "</div>"
      ],
      "text/plain": [
       "             avg_return  avg_length\n",
       "run                                \n",
       "baseline       -21.0142     30.0838\n",
       "alpha_0.01    -160.3490    127.1528\n",
       "alpha_0.001   -257.8632    184.9116\n",
       "alpha_0.2      -11.4594     23.4588\n",
       "epsilon_0.2    -32.5350     32.7822\n",
       "epsilon_0.3    -47.3394     35.8830"
      ]
     },
     "metadata": {},
     "output_type": "display_data"
    },
    {
     "data": {
      "image/png": "[encoded data removed]",
      "text/plain": [
       "<Figure size 1000x400 with 1 Axes>"
      ]
     },
     "metadata": {},
     "output_type": "display_data"
    }
   ],
   "source": [
    "\n",
    "def plot_learning_curve(episode_returns, window=100, title='Learning curve (episode returns)'):\n",
    "    smoothed = pd.Series(episode_returns).rolling(window=window, min_periods=1).mean()\n",
    "    plt.figure(figsize=(12,5))\n",
    "    plt.plot(episode_returns, alpha=0.25, label='returns per episode')\n",
    "    plt.plot(smoothed, label=f'smoothed (window={window})')\n",
    "    plt.title(title)\n",
    "    plt.xlabel('Episode')\n",
    "    plt.ylabel('Return (sum of rewards)')\n",
    "    plt.legend()\n",
    "    plt.grid(True)\n",
    "    plt.show()\n",
    "\n",
    "# Example: plot baseline if present\n",
    "try:\n",
    "    if 'results' in globals() and any(r['name']=='baseline' for r in results):\n",
    "        baseline = next(r for r in results if r['name']=='baseline')\n",
    "        plot_learning_curve(baseline['metrics']['episode_returns'], window=200, title='Baseline learning curve (alpha=0.1, epsilon=0.1, gamma=0.9)')\n",
    "except Exception as e:\n",
    "    print('Plot example failed:', e)\n",
    "\n",
    "# Plot comparison of average returns across runs if summary_df exists\n",
    "try:\n",
    "    display(summary_df.set_index('run')[['avg_return','avg_length']])\n",
    "    summary_df.plot.bar(x='run', y='avg_return', legend=False, title='Average return per run', figsize=(10,4))\n",
    "    plt.ylabel('Average return (per episode)')\n",
    "    plt.show()\n",
    "except Exception as e:\n",
    "    print('Plotting summary failed:', e)\n"
   ]
  },
  {
   "cell_type": "markdown",
   "id": "05c60d55",
   "metadata": {},
   "source": [
    "## Choosing the best hyperparameters\n",
    "Based on the comparison of average return and average episode length, choose a best combination and re-run training to report and comment on differences."
   ]
  },
  {
   "cell_type": "code",
   "execution_count": 36,
   "id": "9eb7e8cb",
   "metadata": {},
   "outputs": [
    {
     "data": {
      "application/vnd.microsoft.datawrangler.viewer.v0+json": {
       "columns": [
        {
         "name": "index",
         "rawType": "object",
         "type": "string"
        },
        {
         "name": "3",
         "rawType": "object",
         "type": "unknown"
        }
       ],
       "ref": "64da4f46-bc0f-4096-83cb-53bae4cc72dc",
       "rows": [
        [
         "run",
         "alpha_0.2"
        ],
        [
         "alpha",
         "0.2"
        ],
        [
         "epsilon",
         "0.1"
        ],
        [
         "gamma",
         "0.9"
        ],
        [
         "avg_return",
         "-11.4594"
        ],
        [
         "avg_length",
         "23.4588"
        ]
       ],
       "shape": {
        "columns": 1,
        "rows": 6
       }
      },
      "text/plain": [
       "run           alpha_0.2\n",
       "alpha               0.2\n",
       "epsilon             0.1\n",
       "gamma               0.9\n",
       "avg_return     -11.4594\n",
       "avg_length      23.4588\n",
       "Name: 3, dtype: object"
      ]
     },
     "execution_count": 36,
     "metadata": {},
     "output_type": "execute_result"
    }
   ],
   "source": [
    "\n",
    "# Choose best by highest avg_return in summary_df\n",
    "best_row = summary_df.loc[summary_df['avg_return'].idxmax()]\n",
    "best_row\n"
   ]
  },
  {
   "cell_type": "markdown",
   "id": "59e8f79e",
   "metadata": {},
   "source": [
    "## Re-run with chosen hyperparameters and final report\n",
    "Run a final training using the chosen hyperparameters and include final metrics and plots. Add commentary on observed differences."
   ]
  },
  {
   "cell_type": "code",
   "execution_count": 37,
   "id": "b2f2d789",
   "metadata": {},
   "outputs": [
    {
     "name": "stdout",
     "output_type": "stream",
     "text": [
      "Best params from experiments: {'alpha': 0.2, 'epsilon': 0.1, 'gamma': 0.9}\n",
      "Episode 500/5000: return=8.0, steps=13\n",
      "Episode 1000/5000: return=6.0, steps=15\n",
      "Episode 1500/5000: return=5.0, steps=16\n",
      "Episode 2000/5000: return=10.0, steps=11\n",
      "Episode 2500/5000: return=-11.0, steps=14\n",
      "Episode 3000/5000: return=7.0, steps=14\n",
      "Episode 3500/5000: return=-26.0, steps=20\n",
      "Episode 4000/5000: return=12.0, steps=9\n",
      "Episode 4500/5000: return=5.0, steps=16\n",
      "Episode 5000/5000: return=-4.0, steps=16\n",
      "Final run — Average return: -11.4536 Average length: 23.381\n"
     ]
    },
    {
     "data": {
      "image/png": "[encoded data removed]",
      "text/plain": [
       "<Figure size 1200x500 with 1 Axes>"
      ]
     },
     "metadata": {},
     "output_type": "display_data"
    },
    {
     "name": "stdout",
     "output_type": "stream",
     "text": [
      "Saved summary and final metrics to .\n"
     ]
    }
   ],
   "source": [
    "\n",
    "best = best_row.to_dict()\n",
    "best_params = {'alpha': float(best['alpha']), 'epsilon': float(best['epsilon']), 'gamma': float(best['gamma'])}\n",
    "print(\"Best params from experiments:\", best_params)\n",
    "\n",
    "# Re-run\n",
    "FINAL_EPISODES = NUM_EPISODES\n",
    "agent = QLearningAgent(num_states, num_actions, alpha=best_params['alpha'], gamma=best_params['gamma'], epsilon=best_params['epsilon'], seed=123)\n",
    "env = gym.make(ENV_NAME)\n",
    "final_metrics = train_q_learning(env, agent, num_episodes=FINAL_EPISODES, max_steps_per_episode=MAX_STEPS, render=False, verbose=True)\n",
    "env.close()\n",
    "\n",
    "print(\"Final run — Average return:\", np.mean(final_metrics['episode_returns']), \"Average length:\", np.mean(final_metrics['episode_lengths']))\n",
    "\n",
    "# Plot final learning curve\n",
    "plot_learning_curve(final_metrics['episode_returns'], window=200, title='Final run learning curve (chosen hyperparams)')\n",
    "\n",
    "# Save results to CSV for the report\n",
    "out_dir = '.'\n",
    "os.makedirs(out_dir, exist_ok=True)\n",
    "summary_df.to_csv(os.path.join(out_dir, 'summary_df.csv'), index=False)\n",
    "pd.DataFrame(final_metrics).to_csv(os.path.join(out_dir, 'final_metrics.csv'), index=False)\n",
    "print('Saved summary and final metrics to', out_dir)\n"
   ]
  },
  {
   "cell_type": "code",
   "execution_count": 38,
   "id": "d948e174",
   "metadata": {},
   "outputs": [
    {
     "name": "stdout",
     "output_type": "stream",
     "text": [
      "\n",
      "Starting Taxi demonstration 🚕\n",
      "\n",
      "+---------+\n",
      "|R: | : :\u001b[34;1mG\u001b[0m|\n",
      "| : | :\u001b[43m \u001b[0m: |\n",
      "| : : : : |\n",
      "| | : | : |\n",
      "|\u001b[35mY\u001b[0m| : |B: |\n",
      "+---------+\n",
      "  (North)\n",
      "\n",
      "+---------+\n",
      "|R: | : :\u001b[34;1mG\u001b[0m|\n",
      "| : | : :\u001b[43m \u001b[0m|\n",
      "| : : : : |\n",
      "| | : | : |\n",
      "|\u001b[35mY\u001b[0m| : |B: |\n",
      "+---------+\n",
      "  (East)\n",
      "\n",
      "+---------+\n",
      "|R: | : :\u001b[34;1m\u001b[43mG\u001b[0m\u001b[0m|\n",
      "| : | : : |\n",
      "| : : : : |\n",
      "| | : | : |\n",
      "|\u001b[35mY\u001b[0m| : |B: |\n",
      "+---------+\n",
      "  (North)\n",
      "\n",
      "+---------+\n",
      "|R: | : :\u001b[42mG\u001b[0m|\n",
      "| : | : : |\n",
      "| : : : : |\n",
      "| | : | : |\n",
      "|\u001b[35mY\u001b[0m| : |B: |\n",
      "+---------+\n",
      "  (Pickup)\n",
      "\n",
      "+---------+\n",
      "|R: | : :G|\n",
      "| : | : :\u001b[42m_\u001b[0m|\n",
      "| : : : : |\n",
      "| | : | : |\n",
      "|\u001b[35mY\u001b[0m| : |B: |\n",
      "+---------+\n",
      "  (South)\n",
      "\n",
      "+---------+\n",
      "|R: | : :G|\n",
      "| : | :\u001b[42m_\u001b[0m: |\n",
      "| : : : : |\n",
      "| | : | : |\n",
      "|\u001b[35mY\u001b[0m| : |B: |\n",
      "+---------+\n",
      "  (West)\n",
      "\n",
      "+---------+\n",
      "|R: | : :G|\n",
      "| : | : : |\n",
      "| : : :\u001b[42m_\u001b[0m: |\n",
      "| | : | : |\n",
      "|\u001b[35mY\u001b[0m| : |B: |\n",
      "+---------+\n",
      "  (South)\n",
      "\n",
      "+---------+\n",
      "|R: | : :G|\n",
      "| : | : : |\n",
      "| : :\u001b[42m_\u001b[0m: : |\n",
      "| | : | : |\n",
      "|\u001b[35mY\u001b[0m| : |B: |\n",
      "+---------+\n",
      "  (West)\n",
      "\n",
      "+---------+\n",
      "|R: | : :G|\n",
      "| : | : : |\n",
      "| :\u001b[42m_\u001b[0m: : : |\n",
      "| | : | : |\n",
      "|\u001b[35mY\u001b[0m| : |B: |\n",
      "+---------+\n",
      "  (West)\n",
      "\n",
      "+---------+\n",
      "|R: | : :G|\n",
      "| : | : : |\n",
      "|\u001b[42m_\u001b[0m: : : : |\n",
      "| | : | : |\n",
      "|\u001b[35mY\u001b[0m| : |B: |\n",
      "+---------+\n",
      "  (West)\n",
      "\n",
      "+---------+\n",
      "|R: | : :G|\n",
      "| : | : : |\n",
      "| : : : : |\n",
      "|\u001b[42m_\u001b[0m| : | : |\n",
      "|\u001b[35mY\u001b[0m| : |B: |\n",
      "+---------+\n",
      "  (South)\n",
      "\n",
      "+---------+\n",
      "|R: | : :G|\n",
      "| : | : : |\n",
      "| : : : : |\n",
      "| | : | : |\n",
      "|\u001b[35m\u001b[42mY\u001b[0m\u001b[0m| : |B: |\n",
      "+---------+\n",
      "  (South)\n",
      "\n",
      "+---------+\n",
      "|R: | : :G|\n",
      "| : | : : |\n",
      "| : : : : |\n",
      "| | : | : |\n",
      "|\u001b[35m\u001b[34;1m\u001b[43mY\u001b[0m\u001b[0m\u001b[0m| : |B: |\n",
      "+---------+\n",
      "  (Dropoff)\n",
      "\n",
      "\n",
      "✅ Episode finished!\n",
      "Total reward: 8\n",
      "Total steps: 13\n"
     ]
    }
   ],
   "source": [
    "# ============================================================\n",
    "# 🚕 Demonstration: Watch the trained Taxi move\n",
    "# ============================================================\n",
    "\n",
    "import time\n",
    "\n",
    "# Recreate the environment in text render mode\n",
    "env_demo = gym.make(\"Taxi-v3\", render_mode=\"ansi\")\n",
    "\n",
    "state, _ = env_demo.reset()\n",
    "done = False\n",
    "total_reward = 0\n",
    "steps = 0\n",
    "\n",
    "print(\"\\nStarting Taxi demonstration 🚕\\n\")\n",
    "time.sleep(1)\n",
    "\n",
    "# Run one episode using the learned policy\n",
    "while not done and steps < 100:\n",
    "    # Select the best learned action (greedy)\n",
    "    action = np.argmax(agent.Q[state])\n",
    "\n",
    "    state, reward, done, truncated, info = env_demo.step(action)\n",
    "    total_reward += reward\n",
    "    steps += 1\n",
    "\n",
    "    # Render the taxi grid (text output)\n",
    "    print(env_demo.render())\n",
    "    time.sleep(0.5)  # small delay so it looks animated\n",
    "\n",
    "print(\"\\n✅ Episode finished!\")\n",
    "print(\"Total reward:\", total_reward)\n",
    "print(\"Total steps:\", steps)\n"
   ]
  },
  {
   "cell_type": "markdown",
   "id": "6bfa2579",
   "metadata": {},
   "source": [
    "\n",
    "## Short report / Observations\n",
    "\n",
    "**Metrics reported:**\n",
    "- Total episodes: `NUM_EPISODES` (set in the experiments cell).\n",
    "- Total steps taken per episode: recorded in `episode_lengths` (see plots and CSV).\n",
    "- Average return per episode: recorded in summary tables and CSV files.\n",
    "\n",
    "**Observations (what to look for when you run the notebook):**\n",
    "- Q-learning with a moderate learning rate (e.g., α=0.1) and low epsilon (0.1) typically learns steadily; too small α (e.g., 0.001) slows learning; too large α (e.g., 0.2) can make updates noisy.\n",
    "- Increasing exploration (epsilon) to 0.2 or 0.3 may improve exploration early but can reduce final performance if not decayed.\n",
    "- For this discrete task, a well-tuned Q-table often converges to a policy that delivers passengers reliably; monitor average return and episode length to measure efficiency.\n",
    "\n",
    "**Recommendation:**\n",
    "- Based on the experiments in this notebook, choose the hyperparameters that give the highest average return with reasonable episode length. Rerun the final training for a longer number of episodes (e.g., 10k) to produce the final policy and metrics to include in your submitted PDF report."
   ]
  }
 ],
 "metadata": {
  "kernelspec": {
   "display_name": "Python 3",
   "language": "python",
   "name": "python3"
  },
  "language_info": {
   "codemirror_mode": {
    "name": "ipython",
    "version": 3
   },
   "file_extension": ".py",
   "mimetype": "text/x-python",
   "name": "python",
   "nbconvert_exporter": "python",
   "pygments_lexer": "ipython3",
   "version": "3.12.6"
  }
 },
 "nbformat": 4,
 "nbformat_minor": 5
}
